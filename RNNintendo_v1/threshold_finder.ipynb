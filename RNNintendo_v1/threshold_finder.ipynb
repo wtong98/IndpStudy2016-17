{
 "cells": [
  {
   "cell_type": "markdown",
   "metadata": {
    "deletable": true,
    "editable": true
   },
   "source": [
    "# Plots music matrix values to determine threshold"
   ]
  },
  {
   "cell_type": "code",
   "execution_count": 1,
   "metadata": {
    "collapsed": false,
    "deletable": true,
    "editable": true
   },
   "outputs": [],
   "source": [
    "#imports\n",
    "%matplotlib inline\n",
    "import matplotlib.pyplot as plt\n",
    "import numpy as np\n",
    "import midi_manipulation"
   ]
  },
  {
   "cell_type": "code",
   "execution_count": 8,
   "metadata": {
    "collapsed": false,
    "deletable": true,
    "editable": true
   },
   "outputs": [
    {
     "name": "stdout",
     "output_type": "stream",
     "text": [
      "0.142556\n"
     ]
    },
    {
     "data": {
      "image/png": "[encoded data removed]",
      "text/plain": [
       "<matplotlib.figure.Figure at 0x7f4d2a020dd0>"
      ]
     },
     "metadata": {},
     "output_type": "display_data"
    }
   ],
   "source": [
    "input_path = r'final_tune.txt'\n",
    "template_path = r'primer.mid'\n",
    "\n",
    "music_file = open(input_path)\n",
    "raw_data = music_file.readlines()\n",
    "data = np.zeros(shape=(len(raw_data), 156))\n",
    "\n",
    "for r in range(len(raw_data)):\n",
    "    row = raw_data[r].split('\\t')\n",
    "    for c in range(156):\n",
    "        data[r][c] = row[c]\n",
    "\n",
    "template = np.reshape(midi_manipulation.midiToNoteStateMatrix(template_path), [-1])\n",
    "data = np.reshape(data, [-1])\n",
    "count = 0\n",
    "for i in template:\n",
    "    if i > 0:\n",
    "        count += 1\n",
    "fraction = count / len(template)\n",
    "predicted_threshold = np.percentile(data, (1 - fraction) * 100)\n",
    "print(predicted_threshold)\n",
    "\n",
    "plt.hist(data, bins=50)\n",
    "plt.axvline(predicted_threshold)\n",
    "plt.show()\n",
    "\n",
    "music_file.close()"
   ]
  },
  {
   "cell_type": "code",
   "execution_count": null,
   "metadata": {
    "collapsed": true,
    "deletable": true,
    "editable": true
   },
   "outputs": [],
   "source": []
  }
 ],
 "metadata": {
  "kernelspec": {
   "display_name": "Python 2",
   "language": "python",
   "name": "python2"
  },
  "language_info": {
   "codemirror_mode": {
    "name": "ipython",
    "version": 2
   },
   "file_extension": ".py",
   "mimetype": "text/x-python",
   "name": "python",
   "nbconvert_exporter": "python",
   "pygments_lexer": "ipython2",
   "version": "2.7.12+"
  }
 },
 "nbformat": 4,
 "nbformat_minor": 2
}
