{
 "cells": [
  {
   "cell_type": "markdown",
   "metadata": {
    "deletable": true,
    "editable": true
   },
   "source": [
    "# Simple LinReg with machine learning"
   ]
  },
  {
   "cell_type": "code",
   "execution_count": 2,
   "metadata": {
    "collapsed": true,
    "deletable": true,
    "editable": true
   },
   "outputs": [],
   "source": [
    "#imports\n",
    "%matplotlib inline\n",
    "import tensorflow as tf\n",
    "import numpy as np\n",
    "import matplotlib.pyplot as plt"
   ]
  },
  {
   "cell_type": "code",
   "execution_count": 4,
   "metadata": {
    "collapsed": false,
    "deletable": true,
    "editable": true
   },
   "outputs": [
    {
     "name": "stdout",
     "output_type": "stream",
     "text": [
      "[ 4.9999936]\n"
     ]
    },
    {
     "data": {
      "image/png": "[encoded data removed]",
      "text/plain": [
       "<matplotlib.figure.Figure at 0x7f5668228d90>"
      ]
     },
     "metadata": {},
     "output_type": "display_data"
    }
   ],
   "source": [
    "x_set = [1,2,3,4]\n",
    "y_set = [-1,-2,-3,-4]\n",
    "\n",
    "#y = mx + b\n",
    "b = tf.Variable(np.random.normal(size=(1)))\n",
    "m = tf.Variable(np.random.normal(size=(1)))\n",
    "x = tf.placeholder(tf.float64)\n",
    "\n",
    "lin_model = m * x + b\n",
    "y = tf.placeholder(tf.float64)\n",
    "sqr_error = tf.square(lin_model - y) #loss calculation\n",
    "loss = tf.reduce_sum(sqr_error)\n",
    "\n",
    "sess = tf.InteractiveSession()\n",
    "sess.run(tf.global_variables_initializer())\n",
    "\n",
    "# sess.run([tf.assign(b, [1,]), tf.assign(m, [-1,])]) <-- cheating (^_^)\n",
    "# result = sess.run(loss, {x:[1,2,3,4], y:[0,-1,-2,-3]})\n",
    "optimizer = tf.train.GradientDescentOptimizer(0.01)\n",
    "train = optimizer.minimize(loss)\n",
    "\n",
    "for i in range(1000):\n",
    "    sess.run(train, {x:x_set, y:y_set})\n",
    "\n",
    "result = sess.run([m, b])\n",
    "\n",
    "plt.plot(x_set, y_set, 'ro')\n",
    "x_val = range(6)\n",
    "y_val = [i * result[0] + result[1] for i in x_val]\n",
    "plt.plot(x_val, y_val,)\n",
    "\n",
    "print(sess.run(lin_model, {x:[-5]}))"
   ]
  },
  {
   "cell_type": "code",
   "execution_count": null,
   "metadata": {
    "collapsed": true,
    "deletable": true,
    "editable": true
   },
   "outputs": [],
   "source": []
  }
 ],
 "metadata": {
  "kernelspec": {
   "display_name": "Python 2",
   "language": "python",
   "name": "python2"
  },
  "language_info": {
   "codemirror_mode": {
    "name": "ipython",
    "version": 2
   },
   "file_extension": ".py",
   "mimetype": "text/x-python",
   "name": "python",
   "nbconvert_exporter": "python",
   "pygments_lexer": "ipython2",
   "version": "2.7.12+"
  }
 },
 "nbformat": 4,
 "nbformat_minor": 2
}
