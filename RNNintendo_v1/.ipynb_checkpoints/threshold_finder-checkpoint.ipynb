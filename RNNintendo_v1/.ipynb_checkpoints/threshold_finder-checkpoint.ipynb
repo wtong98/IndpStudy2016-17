{
 "cells": [
  {
   "cell_type": "markdown",
   "metadata": {
    "deletable": true,
    "editable": true
   },
   "source": [
    "# Plots music matrix values to determine threshold"
   ]
  },
  {
   "cell_type": "code",
   "execution_count": 1,
   "metadata": {
    "collapsed": false,
    "deletable": true,
    "editable": true
   },
   "outputs": [],
   "source": [
    "#imports\n",
    "%matplotlib inline\n",
    "import matplotlib.pyplot as plt\n",
    "import numpy as np\n",
    "import midi_manipulation"
   ]
  },
  {
   "cell_type": "code",
   "execution_count": 3,
   "metadata": {
    "collapsed": false,
    "deletable": true,
    "editable": true
   },
   "outputs": [
    {
     "data": {
      "image/png": "[encoded data removed]",
      "text/plain": [
       "<matplotlib.figure.Figure at 0x7f4d5d1ca490>"
      ]
     },
     "metadata": {},
     "output_type": "display_data"
    }
   ],
   "source": [
    "input_path = r'final_tune.txt'\n",
    "\n",
    "music_file = open(input_path)\n",
    "raw_data = music_file.readlines()\n",
    "data = np.zeros(shape=(len(raw_data), 156))\n",
    "\n",
    "for r in range(len(raw_data)):\n",
    "    row = raw_data[r].split('\\t')\n",
    "    for c in range(156):\n",
    "        data[r][c] = row[c]\n",
    "\n",
    "template = midi_manipulation.midiToNoteStateMatrix(r'primer.mid')\n",
    "plt.hist(np.reshape(data, [-1]), bins=50)\n",
    "plt.hist(np.reshape(template, [-1]), bins=50)\n",
    "plt.show()"
   ]
  },
  {
   "cell_type": "code",
   "execution_count": null,
   "metadata": {
    "collapsed": true,
    "deletable": true,
    "editable": true
   },
   "outputs": [],
   "source": []
  }
 ],
 "metadata": {
  "kernelspec": {
   "display_name": "Python 2",
   "language": "python",
   "name": "python2"
  },
  "language_info": {
   "codemirror_mode": {
    "name": "ipython",
    "version": 2
   },
   "file_extension": ".py",
   "mimetype": "text/x-python",
   "name": "python",
   "nbconvert_exporter": "python",
   "pygments_lexer": "ipython2",
   "version": "2.7.12+"
  }
 },
 "nbformat": 4,
 "nbformat_minor": 2
}
